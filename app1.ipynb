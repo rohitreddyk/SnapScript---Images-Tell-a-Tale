{
  "nbformat": 4,
  "nbformat_minor": 0,
  "metadata": {
    "colab": {
      "name": "app1.ipynb",
      "provenance": [],
      "collapsed_sections": []
    },
    "kernelspec": {
      "display_name": "Python 3",
      "name": "python3"
    }
  },
  "cells": [
    {
      "cell_type": "code",
      "metadata": {
        "colab": {
          "base_uri": "https://localhost:8080/"
        },
        "id": "0Vo7TBtUGsbI",
        "outputId": "02c40f4e-1869-43a9-a18f-40fd93742804"
      },
      "source": [
        "!pip install q keras==1.2.2\n"
      ],
      "execution_count": 1,
      "outputs": [
        {
          "output_type": "stream",
          "text": [
            "Collecting q\n",
            "  Downloading https://files.pythonhosted.org/packages/53/bc/51619d89e0bd855567e7652fa16d06f1ed36a85f108a7fe71f6629bf719d/q-2.6-py2.py3-none-any.whl\n",
            "Collecting keras==1.2.2\n",
            "\u001b[?25l  Downloading https://files.pythonhosted.org/packages/75/3e/9926ce5c678b7a7978724a2ecf24857d89a415d152b8d3443e6d45c228b2/Keras-1.2.2.tar.gz (175kB)\n",
            "\r\u001b[K     |█▉                              | 10kB 16.6MB/s eta 0:00:01\r\u001b[K     |███▊                            | 20kB 9.0MB/s eta 0:00:01\r\u001b[K     |█████▋                          | 30kB 9.2MB/s eta 0:00:01\r\u001b[K     |███████▌                        | 40kB 10.2MB/s eta 0:00:01\r\u001b[K     |█████████▍                      | 51kB 7.1MB/s eta 0:00:01\r\u001b[K     |███████████▏                    | 61kB 7.4MB/s eta 0:00:01\r\u001b[K     |█████████████                   | 71kB 8.0MB/s eta 0:00:01\r\u001b[K     |███████████████                 | 81kB 8.1MB/s eta 0:00:01\r\u001b[K     |████████████████▉               | 92kB 8.0MB/s eta 0:00:01\r\u001b[K     |██████████████████▊             | 102kB 8.0MB/s eta 0:00:01\r\u001b[K     |████████████████████▌           | 112kB 8.0MB/s eta 0:00:01\r\u001b[K     |██████████████████████▍         | 122kB 8.0MB/s eta 0:00:01\r\u001b[K     |████████████████████████▎       | 133kB 8.0MB/s eta 0:00:01\r\u001b[K     |██████████████████████████▏     | 143kB 8.0MB/s eta 0:00:01\r\u001b[K     |████████████████████████████    | 153kB 8.0MB/s eta 0:00:01\r\u001b[K     |█████████████████████████████▉  | 163kB 8.0MB/s eta 0:00:01\r\u001b[K     |███████████████████████████████▊| 174kB 8.0MB/s eta 0:00:01\r\u001b[K     |████████████████████████████████| 184kB 8.0MB/s \n",
            "\u001b[?25hRequirement already satisfied: theano in /usr/local/lib/python3.7/dist-packages (from keras==1.2.2) (1.0.5)\n",
            "Requirement already satisfied: pyyaml in /usr/local/lib/python3.7/dist-packages (from keras==1.2.2) (3.13)\n",
            "Requirement already satisfied: six in /usr/local/lib/python3.7/dist-packages (from keras==1.2.2) (1.15.0)\n",
            "Requirement already satisfied: numpy>=1.9.1 in /usr/local/lib/python3.7/dist-packages (from theano->keras==1.2.2) (1.19.5)\n",
            "Requirement already satisfied: scipy>=0.14 in /usr/local/lib/python3.7/dist-packages (from theano->keras==1.2.2) (1.4.1)\n",
            "Building wheels for collected packages: keras\n",
            "  Building wheel for keras (setup.py) ... \u001b[?25l\u001b[?25hdone\n",
            "  Created wheel for keras: filename=Keras-1.2.2-cp37-none-any.whl size=209602 sha256=2b7b050fcff58774291a00d38f739665056b300ce6d03c1cd137a471a7c73a8f\n",
            "  Stored in directory: /root/.cache/pip/wheels/55/07/cf/b32db0a8d243b2fd6759d5d7cb650aa20670b2b740209cbf7e\n",
            "Successfully built keras\n",
            "\u001b[31mERROR: textgenrnn 1.4.1 has requirement keras>=2.1.5, but you'll have keras 1.2.2 which is incompatible.\u001b[0m\n",
            "\u001b[31mERROR: kapre 0.1.3.1 has requirement keras>=2.0.0, but you'll have keras 1.2.2 which is incompatible.\u001b[0m\n",
            "\u001b[31mERROR: fancyimpute 0.4.3 has requirement keras>=2.0.0, but you'll have keras 1.2.2 which is incompatible.\u001b[0m\n",
            "Installing collected packages: q, keras\n",
            "  Found existing installation: Keras 2.4.3\n",
            "    Uninstalling Keras-2.4.3:\n",
            "      Successfully uninstalled Keras-2.4.3\n",
            "Successfully installed keras-1.2.2 q-2.6\n"
          ],
          "name": "stdout"
        }
      ]
    },
    {
      "cell_type": "code",
      "metadata": {
        "colab": {
          "base_uri": "https://localhost:8080/"
        },
        "id": "7PgFksrAGwFe",
        "outputId": "7a6026ea-e391-492a-b381-c8a500d1241f"
      },
      "source": [
        "pip install tensorflow==1.13.1"
      ],
      "execution_count": 2,
      "outputs": [
        {
          "output_type": "stream",
          "text": [
            "Collecting tensorflow==1.13.1\n",
            "\u001b[?25l  Downloading https://files.pythonhosted.org/packages/d4/29/6b4f1e02417c3a1ccc85380f093556ffd0b35dc354078074c5195c8447f2/tensorflow-1.13.1-cp37-cp37m-manylinux1_x86_64.whl (92.6MB)\n",
            "\u001b[K     |████████████████████████████████| 92.6MB 54kB/s \n",
            "\u001b[?25hRequirement already satisfied: six>=1.10.0 in /usr/local/lib/python3.7/dist-packages (from tensorflow==1.13.1) (1.15.0)\n",
            "Collecting tensorflow-estimator<1.14.0rc0,>=1.13.0\n",
            "\u001b[?25l  Downloading https://files.pythonhosted.org/packages/bb/48/13f49fc3fa0fdf916aa1419013bb8f2ad09674c275b4046d5ee669a46873/tensorflow_estimator-1.13.0-py2.py3-none-any.whl (367kB)\n",
            "\u001b[K     |████████████████████████████████| 368kB 37.3MB/s \n",
            "\u001b[?25hRequirement already satisfied: astor>=0.6.0 in /usr/local/lib/python3.7/dist-packages (from tensorflow==1.13.1) (0.8.1)\n",
            "Requirement already satisfied: numpy>=1.13.3 in /usr/local/lib/python3.7/dist-packages (from tensorflow==1.13.1) (1.19.5)\n",
            "Requirement already satisfied: gast>=0.2.0 in /usr/local/lib/python3.7/dist-packages (from tensorflow==1.13.1) (0.3.3)\n",
            "Requirement already satisfied: wheel>=0.26 in /usr/local/lib/python3.7/dist-packages (from tensorflow==1.13.1) (0.36.2)\n",
            "Requirement already satisfied: termcolor>=1.1.0 in /usr/local/lib/python3.7/dist-packages (from tensorflow==1.13.1) (1.1.0)\n",
            "Requirement already satisfied: grpcio>=1.8.6 in /usr/local/lib/python3.7/dist-packages (from tensorflow==1.13.1) (1.32.0)\n",
            "Requirement already satisfied: keras-preprocessing>=1.0.5 in /usr/local/lib/python3.7/dist-packages (from tensorflow==1.13.1) (1.1.2)\n",
            "Requirement already satisfied: protobuf>=3.6.1 in /usr/local/lib/python3.7/dist-packages (from tensorflow==1.13.1) (3.12.4)\n",
            "Requirement already satisfied: absl-py>=0.1.6 in /usr/local/lib/python3.7/dist-packages (from tensorflow==1.13.1) (0.10.0)\n",
            "Collecting keras-applications>=1.0.6\n",
            "\u001b[?25l  Downloading https://files.pythonhosted.org/packages/71/e3/19762fdfc62877ae9102edf6342d71b28fbfd9dea3d2f96a882ce099b03f/Keras_Applications-1.0.8-py3-none-any.whl (50kB)\n",
            "\u001b[K     |████████████████████████████████| 51kB 5.5MB/s \n",
            "\u001b[?25hCollecting tensorboard<1.14.0,>=1.13.0\n",
            "\u001b[?25l  Downloading https://files.pythonhosted.org/packages/0f/39/bdd75b08a6fba41f098b6cb091b9e8c7a80e1b4d679a581a0ccd17b10373/tensorboard-1.13.1-py3-none-any.whl (3.2MB)\n",
            "\u001b[K     |████████████████████████████████| 3.2MB 37.9MB/s \n",
            "\u001b[?25hCollecting mock>=2.0.0\n",
            "  Downloading https://files.pythonhosted.org/packages/5c/03/b7e605db4a57c0f6fba744b11ef3ddf4ddebcada35022927a2b5fc623fdf/mock-4.0.3-py3-none-any.whl\n",
            "Requirement already satisfied: setuptools in /usr/local/lib/python3.7/dist-packages (from protobuf>=3.6.1->tensorflow==1.13.1) (54.0.0)\n",
            "Requirement already satisfied: h5py in /usr/local/lib/python3.7/dist-packages (from keras-applications>=1.0.6->tensorflow==1.13.1) (2.10.0)\n",
            "Requirement already satisfied: werkzeug>=0.11.15 in /usr/local/lib/python3.7/dist-packages (from tensorboard<1.14.0,>=1.13.0->tensorflow==1.13.1) (1.0.1)\n",
            "Requirement already satisfied: markdown>=2.6.8 in /usr/local/lib/python3.7/dist-packages (from tensorboard<1.14.0,>=1.13.0->tensorflow==1.13.1) (3.3.4)\n",
            "Requirement already satisfied: importlib-metadata; python_version < \"3.8\" in /usr/local/lib/python3.7/dist-packages (from markdown>=2.6.8->tensorboard<1.14.0,>=1.13.0->tensorflow==1.13.1) (3.7.0)\n",
            "Requirement already satisfied: zipp>=0.5 in /usr/local/lib/python3.7/dist-packages (from importlib-metadata; python_version < \"3.8\"->markdown>=2.6.8->tensorboard<1.14.0,>=1.13.0->tensorflow==1.13.1) (3.4.1)\n",
            "Requirement already satisfied: typing-extensions>=3.6.4; python_version < \"3.8\" in /usr/local/lib/python3.7/dist-packages (from importlib-metadata; python_version < \"3.8\"->markdown>=2.6.8->tensorboard<1.14.0,>=1.13.0->tensorflow==1.13.1) (3.7.4.3)\n",
            "\u001b[31mERROR: fancyimpute 0.4.3 has requirement keras>=2.0.0, but you'll have keras 1.2.2 which is incompatible.\u001b[0m\n",
            "Installing collected packages: mock, tensorflow-estimator, keras-applications, tensorboard, tensorflow\n",
            "  Found existing installation: tensorflow-estimator 2.4.0\n",
            "    Uninstalling tensorflow-estimator-2.4.0:\n",
            "      Successfully uninstalled tensorflow-estimator-2.4.0\n",
            "  Found existing installation: tensorboard 2.4.1\n",
            "    Uninstalling tensorboard-2.4.1:\n",
            "      Successfully uninstalled tensorboard-2.4.1\n",
            "  Found existing installation: tensorflow 2.4.1\n",
            "    Uninstalling tensorflow-2.4.1:\n",
            "      Successfully uninstalled tensorflow-2.4.1\n",
            "Successfully installed keras-applications-1.0.8 mock-4.0.3 tensorboard-1.13.1 tensorflow-1.13.1 tensorflow-estimator-1.13.0\n"
          ],
          "name": "stdout"
        }
      ]
    },
    {
      "cell_type": "code",
      "metadata": {
        "colab": {
          "base_uri": "https://localhost:8080/"
        },
        "id": "I8Ls6HSvuMA5",
        "outputId": "add4c61a-5b30-4be5-a530-3866c4f6a066"
      },
      "source": [
        "!pip install flask-ngrok"
      ],
      "execution_count": 3,
      "outputs": [
        {
          "output_type": "stream",
          "text": [
            "Collecting flask-ngrok\n",
            "  Downloading https://files.pythonhosted.org/packages/af/6c/f54cb686ad1129e27d125d182f90f52b32f284e6c8df58c1bae54fa1adbc/flask_ngrok-0.0.25-py3-none-any.whl\n",
            "Requirement already satisfied: Flask>=0.8 in /usr/local/lib/python3.7/dist-packages (from flask-ngrok) (1.1.2)\n",
            "Requirement already satisfied: requests in /usr/local/lib/python3.7/dist-packages (from flask-ngrok) (2.23.0)\n",
            "Requirement already satisfied: click>=5.1 in /usr/local/lib/python3.7/dist-packages (from Flask>=0.8->flask-ngrok) (7.1.2)\n",
            "Requirement already satisfied: Jinja2>=2.10.1 in /usr/local/lib/python3.7/dist-packages (from Flask>=0.8->flask-ngrok) (2.11.3)\n",
            "Requirement already satisfied: Werkzeug>=0.15 in /usr/local/lib/python3.7/dist-packages (from Flask>=0.8->flask-ngrok) (1.0.1)\n",
            "Requirement already satisfied: itsdangerous>=0.24 in /usr/local/lib/python3.7/dist-packages (from Flask>=0.8->flask-ngrok) (1.1.0)\n",
            "Requirement already satisfied: certifi>=2017.4.17 in /usr/local/lib/python3.7/dist-packages (from requests->flask-ngrok) (2020.12.5)\n",
            "Requirement already satisfied: urllib3!=1.25.0,!=1.25.1,<1.26,>=1.21.1 in /usr/local/lib/python3.7/dist-packages (from requests->flask-ngrok) (1.24.3)\n",
            "Requirement already satisfied: idna<3,>=2.5 in /usr/local/lib/python3.7/dist-packages (from requests->flask-ngrok) (2.10)\n",
            "Requirement already satisfied: chardet<4,>=3.0.2 in /usr/local/lib/python3.7/dist-packages (from requests->flask-ngrok) (3.0.4)\n",
            "Requirement already satisfied: MarkupSafe>=0.23 in /usr/local/lib/python3.7/dist-packages (from Jinja2>=2.10.1->Flask>=0.8->flask-ngrok) (1.1.1)\n",
            "Installing collected packages: flask-ngrok\n",
            "Successfully installed flask-ngrok-0.0.25\n"
          ],
          "name": "stdout"
        }
      ]
    },
    {
      "cell_type": "code",
      "metadata": {
        "id": "kVWz42PLuNRm"
      },
      "source": [
        "from flask_ngrok import run_with_ngrok"
      ],
      "execution_count": 4,
      "outputs": []
    },
    {
      "cell_type": "code",
      "metadata": {
        "id": "6rgeXQsntSqB"
      },
      "source": [
        "import flask\n",
        "from flask import Flask,render_template,redirect,request"
      ],
      "execution_count": 5,
      "outputs": []
    },
    {
      "cell_type": "code",
      "metadata": {
        "id": "k_WOQska6VQR"
      },
      "source": [
        "%mkdir static -p"
      ],
      "execution_count": 6,
      "outputs": []
    },
    {
      "cell_type": "code",
      "metadata": {
        "id": "vz5mQaCSPx05"
      },
      "source": [
        "%mkdir templates -p"
      ],
      "execution_count": 7,
      "outputs": []
    },
    {
      "cell_type": "code",
      "metadata": {
        "colab": {
          "base_uri": "https://localhost:8080/"
        },
        "id": "ey1jW7qIZL3b",
        "outputId": "a97ad02f-81dd-4fa4-f134-f2a1f5fc8026"
      },
      "source": [
        "%%writefile templates/index.html\n",
        "<!DOCTYPE html>\n",
        "<html>\n",
        "<head>\n",
        "\t<title>Image Captioning</title>\n",
        "</head>\n",
        "<body>\n",
        "\n",
        "\t<h1> Image Captioning</h1>\n",
        "\n",
        "\t<form method='POST' action='/' enctype='multipart/form-data'>\n",
        "\t\t<input type='file' name='userfile' placeholder='Your Image'>\n",
        "\t\t<input type='submit'>\n",
        "\t</form>\n",
        "  \n",
        "  \n",
        "\t{% if your_result %}\n",
        "\n",
        "\n",
        "    <h1><i> {{ your_result['caption']}} </i> </h1>\n",
        "    <img src = \"{{url_for('static', filename=your_result['image'])}}\">\n",
        "    <br>\n",
        "\n",
        "\t\t\n",
        "\t{% endif %}\n",
        "\n",
        "\n",
        "</body>\n",
        "</html>\n"
      ],
      "execution_count": 8,
      "outputs": [
        {
          "output_type": "stream",
          "text": [
            "Writing templates/index.html\n"
          ],
          "name": "stdout"
        }
      ]
    },
    {
      "cell_type": "code",
      "metadata": {
        "id": "oavMgboVxm9q"
      },
      "source": [
        "# from google.colab import drive\n",
        "# drive.mount('/content/drive')"
      ],
      "execution_count": 9,
      "outputs": []
    },
    {
      "cell_type": "code",
      "metadata": {
        "id": "yrDw0ZNQVjnk"
      },
      "source": [
        "# import sys\r\n",
        "# sys.path.insert(0,'/content/drive/My Drive/ML')"
      ],
      "execution_count": 10,
      "outputs": []
    },
    {
      "cell_type": "code",
      "metadata": {
        "colab": {
          "base_uri": "https://localhost:8080/"
        },
        "id": "SFps84kdFBTz",
        "outputId": "1b5d502d-39e1-45e6-ae54-323556cf2a4e"
      },
      "source": [
        "import new_predict_caption"
      ],
      "execution_count": 11,
      "outputs": [
        {
          "output_type": "stream",
          "text": [
            "Using TensorFlow backend.\n",
            "/usr/local/lib/python3.7/dist-packages/tensorflow/python/framework/dtypes.py:526: FutureWarning: Passing (type, 1) or '1type' as a synonym of type is deprecated; in a future version of numpy, it will be understood as (type, (1,)) / '(1,)type'.\n",
            "  _np_qint8 = np.dtype([(\"qint8\", np.int8, 1)])\n",
            "/usr/local/lib/python3.7/dist-packages/tensorflow/python/framework/dtypes.py:527: FutureWarning: Passing (type, 1) or '1type' as a synonym of type is deprecated; in a future version of numpy, it will be understood as (type, (1,)) / '(1,)type'.\n",
            "  _np_quint8 = np.dtype([(\"quint8\", np.uint8, 1)])\n",
            "/usr/local/lib/python3.7/dist-packages/tensorflow/python/framework/dtypes.py:528: FutureWarning: Passing (type, 1) or '1type' as a synonym of type is deprecated; in a future version of numpy, it will be understood as (type, (1,)) / '(1,)type'.\n",
            "  _np_qint16 = np.dtype([(\"qint16\", np.int16, 1)])\n",
            "/usr/local/lib/python3.7/dist-packages/tensorflow/python/framework/dtypes.py:529: FutureWarning: Passing (type, 1) or '1type' as a synonym of type is deprecated; in a future version of numpy, it will be understood as (type, (1,)) / '(1,)type'.\n",
            "  _np_quint16 = np.dtype([(\"quint16\", np.uint16, 1)])\n",
            "/usr/local/lib/python3.7/dist-packages/tensorflow/python/framework/dtypes.py:530: FutureWarning: Passing (type, 1) or '1type' as a synonym of type is deprecated; in a future version of numpy, it will be understood as (type, (1,)) / '(1,)type'.\n",
            "  _np_qint32 = np.dtype([(\"qint32\", np.int32, 1)])\n",
            "/usr/local/lib/python3.7/dist-packages/tensorflow/python/framework/dtypes.py:535: FutureWarning: Passing (type, 1) or '1type' as a synonym of type is deprecated; in a future version of numpy, it will be understood as (type, (1,)) / '(1,)type'.\n",
            "  np_resource = np.dtype([(\"resource\", np.ubyte, 1)])\n"
          ],
          "name": "stderr"
        },
        {
          "output_type": "stream",
          "text": [
            "Mounted at /content/drive\n",
            "WARNING:tensorflow:From /usr/local/lib/python3.7/dist-packages/tensorflow/python/framework/op_def_library.py:263: colocate_with (from tensorflow.python.framework.ops) is deprecated and will be removed in a future version.\n",
            "Instructions for updating:\n",
            "Colocations handled automatically by placer.\n",
            "WARNING:tensorflow:From /usr/local/lib/python3.7/dist-packages/keras/backend/tensorflow_backend.py:1047: calling reduce_prod_v1 (from tensorflow.python.ops.math_ops) with keep_dims is deprecated and will be removed in a future version.\n",
            "Instructions for updating:\n",
            "keep_dims is deprecated, use keepdims instead\n",
            "Downloading data from https://github.com/fchollet/deep-learning-models/releases/download/v0.2/inception_v3_weights_tf_dim_ordering_tf_kernels.h5\n",
            "WARNING:tensorflow:From /usr/local/lib/python3.7/dist-packages/keras/backend/tensorflow_backend.py:1029: calling reduce_sum_v1 (from tensorflow.python.ops.math_ops) with keep_dims is deprecated and will be removed in a future version.\n",
            "Instructions for updating:\n",
            "keep_dims is deprecated, use keepdims instead\n"
          ],
          "name": "stdout"
        }
      ]
    },
    {
      "cell_type": "code",
      "metadata": {
        "id": "WgfyHCrwtxRS"
      },
      "source": [
        "app = flask.Flask(__name__,static_folder='/content/static')\n",
        "run_with_ngrok(app)"
      ],
      "execution_count": 12,
      "outputs": []
    },
    {
      "cell_type": "code",
      "metadata": {
        "id": "D8qacyDHt2HP"
      },
      "source": [
        "@app.route('/')\n",
        "def hoe():\n",
        "    return render_template('index.html')"
      ],
      "execution_count": 13,
      "outputs": []
    },
    {
      "cell_type": "code",
      "metadata": {
        "id": "pI2zU3bvAe-F"
      },
      "source": [
        "@app.route('/',methods=['GET','POST'])\n",
        "def pred():\n",
        "    if request.method == 'POST':\n",
        "        f = request.files['userfile']\n",
        "        name = f.filename\n",
        "        path='/content/static/{}'.format(name)\n",
        "        f.save(path)\n",
        "        \n",
        "\n",
        "        caption = new_predict_caption.predict_caption(path)\n",
        "        result_dic = {\n",
        "            'image' : name,\n",
        "            'caption' : caption\n",
        "        }\n",
        "        print(caption)\n",
        "        \n",
        "    return render_template('index.html', your_result=result_dic) "
      ],
      "execution_count": 14,
      "outputs": []
    },
    {
      "cell_type": "code",
      "metadata": {
        "colab": {
          "base_uri": "https://localhost:8080/"
        },
        "id": "x0Y6nD7ivEKU",
        "outputId": "fce38309-be5a-4257-8c77-9f0777de1065"
      },
      "source": [
        "app.run()"
      ],
      "execution_count": 15,
      "outputs": [
        {
          "output_type": "stream",
          "text": [
            " * Serving Flask app \"__main__\" (lazy loading)\n",
            " * Environment: production\n",
            "\u001b[31m   WARNING: This is a development server. Do not use it in a production deployment.\u001b[0m\n",
            "\u001b[2m   Use a production WSGI server instead.\u001b[0m\n",
            " * Debug mode: off\n"
          ],
          "name": "stdout"
        },
        {
          "output_type": "stream",
          "text": [
            " * Running on http://127.0.0.1:5000/ (Press CTRL+C to quit)\n"
          ],
          "name": "stderr"
        },
        {
          "output_type": "stream",
          "text": [
            " * Running on http://3c48760348a4.ngrok.io\n",
            " * Traffic stats available on http://127.0.0.1:4040\n"
          ],
          "name": "stdout"
        },
        {
          "output_type": "stream",
          "text": [
            "127.0.0.1 - - [14/Mar/2021 12:29:38] \"\u001b[37mGET / HTTP/1.1\u001b[0m\" 200 -\n",
            "127.0.0.1 - - [14/Mar/2021 12:29:38] \"\u001b[33mGET /favicon.ico HTTP/1.1\u001b[0m\" 404 -\n",
            "127.0.0.1 - - [14/Mar/2021 12:30:45] \"\u001b[37mPOST / HTTP/1.1\u001b[0m\" 200 -\n"
          ],
          "name": "stderr"
        },
        {
          "output_type": "stream",
          "text": [
            "A person rides a bike high in the air by a fence .\n"
          ],
          "name": "stdout"
        },
        {
          "output_type": "stream",
          "text": [
            "127.0.0.1 - - [14/Mar/2021 12:30:45] \"\u001b[37mGET /static/riding.jpg HTTP/1.1\u001b[0m\" 200 -\n",
            "127.0.0.1 - - [14/Mar/2021 12:31:47] \"\u001b[37mPOST / HTTP/1.1\u001b[0m\" 200 -\n"
          ],
          "name": "stderr"
        },
        {
          "output_type": "stream",
          "text": [
            "A motorcyclist is making a jump over a red car .\n"
          ],
          "name": "stdout"
        },
        {
          "output_type": "stream",
          "text": [
            "127.0.0.1 - - [14/Mar/2021 12:31:47] \"\u001b[37mGET /static/bike.jpg HTTP/1.1\u001b[0m\" 200 -\n",
            "127.0.0.1 - - [14/Mar/2021 12:34:03] \"\u001b[37mPOST / HTTP/1.1\u001b[0m\" 200 -\n"
          ],
          "name": "stderr"
        },
        {
          "output_type": "stream",
          "text": [
            "A brown dog is running through the water .\n"
          ],
          "name": "stdout"
        },
        {
          "output_type": "stream",
          "text": [
            "127.0.0.1 - - [14/Mar/2021 12:34:03] \"\u001b[37mGET /static/tiger.jpeg HTTP/1.1\u001b[0m\" 200 -\n",
            "127.0.0.1 - - [14/Mar/2021 12:35:26] \"\u001b[37mPOST / HTTP/1.1\u001b[0m\" 200 -\n"
          ],
          "name": "stderr"
        },
        {
          "output_type": "stream",
          "text": [
            "A large brown dog and a small brown dog are in the grass .\n"
          ],
          "name": "stdout"
        },
        {
          "output_type": "stream",
          "text": [
            "127.0.0.1 - - [14/Mar/2021 12:35:27] \"\u001b[37mGET /static/elephant.jpeg HTTP/1.1\u001b[0m\" 200 -\n",
            "127.0.0.1 - - [14/Mar/2021 12:41:09] \"\u001b[37mPOST / HTTP/1.1\u001b[0m\" 200 -\n"
          ],
          "name": "stderr"
        },
        {
          "output_type": "stream",
          "text": [
            "A group of bike riders with helmets riding on a track .\n"
          ],
          "name": "stdout"
        },
        {
          "output_type": "stream",
          "text": [
            "127.0.0.1 - - [14/Mar/2021 12:41:10] \"\u001b[37mGET /static/3726025663_e7d35d23f6.jpg HTTP/1.1\u001b[0m\" 200 -\n",
            "127.0.0.1 - - [14/Mar/2021 12:41:43] \"\u001b[37mPOST / HTTP/1.1\u001b[0m\" 200 -\n"
          ],
          "name": "stderr"
        },
        {
          "output_type": "stream",
          "text": [
            "A man is doing a back flip whilst attempting a jump on a bicycle .\n"
          ],
          "name": "stdout"
        },
        {
          "output_type": "stream",
          "text": [
            "127.0.0.1 - - [14/Mar/2021 12:41:45] \"\u001b[37mGET /static/3726076549_0efb38854b.jpg HTTP/1.1\u001b[0m\" 200 -\n",
            "127.0.0.1 - - [14/Mar/2021 12:42:31] \"\u001b[37mPOST / HTTP/1.1\u001b[0m\" 200 -\n"
          ],
          "name": "stderr"
        },
        {
          "output_type": "stream",
          "text": [
            "A man and a woman sitting down .\n"
          ],
          "name": "stdout"
        },
        {
          "output_type": "stream",
          "text": [
            "127.0.0.1 - - [14/Mar/2021 12:42:31] \"\u001b[37mGET /static/3726120436_740bda8416.jpg HTTP/1.1\u001b[0m\" 200 -\n",
            "127.0.0.1 - - [14/Mar/2021 12:43:10] \"\u001b[37mPOST / HTTP/1.1\u001b[0m\" 200 -\n"
          ],
          "name": "stderr"
        },
        {
          "output_type": "stream",
          "text": [
            "A baseball player is trying to play a game with a piece of bucket .\n"
          ],
          "name": "stdout"
        },
        {
          "output_type": "stream",
          "text": [
            "127.0.0.1 - - [14/Mar/2021 12:43:10] \"\u001b[37mGET /static/3726130458_07df79e969.jpg HTTP/1.1\u001b[0m\" 200 -\n",
            "127.0.0.1 - - [14/Mar/2021 12:43:39] \"\u001b[37mPOST / HTTP/1.1\u001b[0m\" 200 -\n"
          ],
          "name": "stderr"
        },
        {
          "output_type": "stream",
          "text": [
            "Two dogs play in the grass .\n"
          ],
          "name": "stdout"
        },
        {
          "output_type": "stream",
          "text": [
            "127.0.0.1 - - [14/Mar/2021 12:43:39] \"\u001b[37mGET /static/3726168984_1fa2c8965b.jpg HTTP/1.1\u001b[0m\" 200 -\n",
            "127.0.0.1 - - [14/Mar/2021 12:44:03] \"\u001b[37mPOST / HTTP/1.1\u001b[0m\" 200 -\n"
          ],
          "name": "stderr"
        },
        {
          "output_type": "stream",
          "text": [
            "A man and a woman are talking in a park\n"
          ],
          "name": "stdout"
        },
        {
          "output_type": "stream",
          "text": [
            "127.0.0.1 - - [14/Mar/2021 12:44:04] \"\u001b[37mGET /static/3726170067_094cc1b7e5.jpg HTTP/1.1\u001b[0m\" 200 -\n",
            "127.0.0.1 - - [14/Mar/2021 12:44:32] \"\u001b[37mPOST / HTTP/1.1\u001b[0m\" 200 -\n"
          ],
          "name": "stderr"
        },
        {
          "output_type": "stream",
          "text": [
            "A woman sits with two children while a picture of a man is sitting in the middle of the floor .\n"
          ],
          "name": "stdout"
        },
        {
          "output_type": "stream",
          "text": [
            "127.0.0.1 - - [14/Mar/2021 12:44:33] \"\u001b[37mGET /static/3726590391_bc6e729bb6.jpg HTTP/1.1\u001b[0m\" 200 -\n",
            "127.0.0.1 - - [14/Mar/2021 12:45:36] \"\u001b[37mPOST / HTTP/1.1\u001b[0m\" 200 -\n"
          ],
          "name": "stderr"
        },
        {
          "output_type": "stream",
          "text": [
            "Four dogs are playing and jumping in the sand as a man behind them skating in a suit walks past it .\n"
          ],
          "name": "stdout"
        },
        {
          "output_type": "stream",
          "text": [
            "127.0.0.1 - - [14/Mar/2021 12:45:37] \"\u001b[37mGET /static/3726629271_7639634703.jpg HTTP/1.1\u001b[0m\" 200 -\n",
            "127.0.0.1 - - [14/Mar/2021 12:46:14] \"\u001b[37mPOST / HTTP/1.1\u001b[0m\" 200 -\n"
          ],
          "name": "stderr"
        },
        {
          "output_type": "stream",
          "text": [
            "A man in a blue shirt is standing outside together .\n"
          ],
          "name": "stdout"
        },
        {
          "output_type": "stream",
          "text": [
            "127.0.0.1 - - [14/Mar/2021 12:46:14] \"\u001b[37mGET /static/3726700898_c50494b8bd.jpg HTTP/1.1\u001b[0m\" 200 -\n",
            "127.0.0.1 - - [14/Mar/2021 12:46:43] \"\u001b[37mPOST / HTTP/1.1\u001b[0m\" 200 -\n"
          ],
          "name": "stderr"
        },
        {
          "output_type": "stream",
          "text": [
            "A man is jumping from his blue board in the air .\n"
          ],
          "name": "stdout"
        },
        {
          "output_type": "stream",
          "text": [
            "127.0.0.1 - - [14/Mar/2021 12:46:43] \"\u001b[37mGET /static/3726730085_2468ee9220.jpg HTTP/1.1\u001b[0m\" 200 -\n",
            "127.0.0.1 - - [14/Mar/2021 12:47:06] \"\u001b[37mPOST / HTTP/1.1\u001b[0m\" 200 -\n"
          ],
          "name": "stderr"
        },
        {
          "output_type": "stream",
          "text": [
            "Two men are playing with tires in muddy grass .\n"
          ],
          "name": "stdout"
        },
        {
          "output_type": "stream",
          "text": [
            "127.0.0.1 - - [14/Mar/2021 12:47:07] \"\u001b[37mGET /static/3727740053_3baa94ffcb.jpg HTTP/1.1\u001b[0m\" 200 -\n",
            "127.0.0.1 - - [14/Mar/2021 12:48:01] \"\u001b[37mPOST / HTTP/1.1\u001b[0m\" 200 -\n"
          ],
          "name": "stderr"
        },
        {
          "output_type": "stream",
          "text": [
            "A girl in a purple dress is climbing up a set of stairs in an empty crowded area .\n"
          ],
          "name": "stdout"
        },
        {
          "output_type": "stream",
          "text": [
            "127.0.0.1 - - [14/Mar/2021 12:48:01] \"\u001b[37mGET /static/3727752439_907795603b.jpg HTTP/1.1\u001b[0m\" 200 -\n",
            "127.0.0.1 - - [14/Mar/2021 12:48:28] \"\u001b[37mPOST / HTTP/1.1\u001b[0m\" 200 -\n"
          ],
          "name": "stderr"
        },
        {
          "output_type": "stream",
          "text": [
            "A man is sitting on a bench behind a bike .\n"
          ],
          "name": "stdout"
        },
        {
          "output_type": "stream",
          "text": [
            "127.0.0.1 - - [14/Mar/2021 12:48:28] \"\u001b[37mGET /static/3728015645_b43a60258b.jpg HTTP/1.1\u001b[0m\" 200 -\n",
            "127.0.0.1 - - [14/Mar/2021 12:49:00] \"\u001b[37mPOST / HTTP/1.1\u001b[0m\" 200 -\n"
          ],
          "name": "stderr"
        },
        {
          "output_type": "stream",
          "text": [
            "Two women pose for a picture in a jacket with their mouths and poles .\n"
          ],
          "name": "stdout"
        },
        {
          "output_type": "stream",
          "text": [
            "127.0.0.1 - - [14/Mar/2021 12:49:00] \"\u001b[37mGET /static/3728164558_52729baefa.jpg HTTP/1.1\u001b[0m\" 200 -\n",
            "127.0.0.1 - - [14/Mar/2021 12:49:43] \"\u001b[37mPOST / HTTP/1.1\u001b[0m\" 200 -\n"
          ],
          "name": "stderr"
        },
        {
          "output_type": "stream",
          "text": [
            "A man is skateboarding down a railing on some stairs .\n"
          ],
          "name": "stdout"
        },
        {
          "output_type": "stream",
          "text": [
            "127.0.0.1 - - [14/Mar/2021 12:49:44] \"\u001b[37mGET /static/3728256505_7f8db8270d.jpg HTTP/1.1\u001b[0m\" 200 -\n",
            "127.0.0.1 - - [14/Mar/2021 12:50:15] \"\u001b[37mPOST / HTTP/1.1\u001b[0m\" 200 -\n"
          ],
          "name": "stderr"
        },
        {
          "output_type": "stream",
          "text": [
            "A man and a baby are sitting at a table in a glasses and a computer .\n"
          ],
          "name": "stdout"
        },
        {
          "output_type": "stream",
          "text": [
            "127.0.0.1 - - [14/Mar/2021 12:50:15] \"\u001b[37mGET /static/3728695560_00ec1ca492.jpg HTTP/1.1\u001b[0m\" 200 -\n",
            "127.0.0.1 - - [14/Mar/2021 12:50:52] \"\u001b[37mPOST / HTTP/1.1\u001b[0m\" 200 -\n"
          ],
          "name": "stderr"
        },
        {
          "output_type": "stream",
          "text": [
            "A boy is doing tricks with his board on a green rail .\n"
          ],
          "name": "stdout"
        },
        {
          "output_type": "stream",
          "text": [
            "127.0.0.1 - - [14/Mar/2021 12:50:52] \"\u001b[37mGET /static/3729405438_6e79077ab2.jpg HTTP/1.1\u001b[0m\" 200 -\n",
            "127.0.0.1 - - [14/Mar/2021 12:51:38] \"\u001b[37mPOST / HTTP/1.1\u001b[0m\" 200 -\n"
          ],
          "name": "stderr"
        },
        {
          "output_type": "stream",
          "text": [
            "Two women are sitting on a grassy mountainside .\n"
          ],
          "name": "stdout"
        },
        {
          "output_type": "stream",
          "text": [
            "127.0.0.1 - - [14/Mar/2021 12:51:39] \"\u001b[37mGET /static/3729525173_7f984ed776.jpg HTTP/1.1\u001b[0m\" 200 -\n",
            "127.0.0.1 - - [14/Mar/2021 12:52:03] \"\u001b[37mPOST / HTTP/1.1\u001b[0m\" 200 -\n"
          ],
          "name": "stderr"
        },
        {
          "output_type": "stream",
          "text": [
            "A man is standing on a beach reading a video camera .\n"
          ],
          "name": "stdout"
        },
        {
          "output_type": "stream",
          "text": [
            "127.0.0.1 - - [14/Mar/2021 12:52:04] \"\u001b[37mGET /static/3730011219_588cdc7972.jpg HTTP/1.1\u001b[0m\" 200 -\n",
            "127.0.0.1 - - [14/Mar/2021 12:52:38] \"\u001b[37mPOST / HTTP/1.1\u001b[0m\" 200 -\n"
          ],
          "name": "stderr"
        },
        {
          "output_type": "stream",
          "text": [
            "A baby is wearing a silver coat and blue shorts .\n"
          ],
          "name": "stdout"
        },
        {
          "output_type": "stream",
          "text": [
            "127.0.0.1 - - [14/Mar/2021 12:52:39] \"\u001b[37mGET /static/3730011701_5352e02286.jpg HTTP/1.1\u001b[0m\" 200 -\n",
            "127.0.0.1 - - [14/Mar/2021 12:53:15] \"\u001b[37mPOST / HTTP/1.1\u001b[0m\" 200 -\n"
          ],
          "name": "stderr"
        },
        {
          "output_type": "stream",
          "text": [
            "A little girl in a purple plaid dress rides his skateboard on the street in a park .\n"
          ],
          "name": "stdout"
        },
        {
          "output_type": "stream",
          "text": [
            "127.0.0.1 - - [14/Mar/2021 12:53:15] \"\u001b[37mGET /static/3730457171_e66dde8c91.jpg HTTP/1.1\u001b[0m\" 200 -\n",
            "127.0.0.1 - - [14/Mar/2021 12:53:45] \"\u001b[37mPOST / HTTP/1.1\u001b[0m\" 200 -\n"
          ],
          "name": "stderr"
        },
        {
          "output_type": "stream",
          "text": [
            "A baby in a red and baby coat and is surrounded by toys .\n"
          ],
          "name": "stdout"
        },
        {
          "output_type": "stream",
          "text": [
            "127.0.0.1 - - [14/Mar/2021 12:53:46] \"\u001b[37mGET /static/3732728142_86364a706e.jpg HTTP/1.1\u001b[0m\" 200 -\n",
            "127.0.0.1 - - [14/Mar/2021 12:54:18] \"\u001b[37mPOST / HTTP/1.1\u001b[0m\" 200 -\n"
          ],
          "name": "stderr"
        },
        {
          "output_type": "stream",
          "text": [
            "A girl in a pink coat walks down a paved path in the woods .\n"
          ],
          "name": "stdout"
        },
        {
          "output_type": "stream",
          "text": [
            "127.0.0.1 - - [14/Mar/2021 12:54:18] \"\u001b[37mGET /static/3733074526_82aa8d5f8d.jpg HTTP/1.1\u001b[0m\" 200 -\n",
            "127.0.0.1 - - [14/Mar/2021 12:54:47] \"\u001b[37mPOST / HTTP/1.1\u001b[0m\" 200 -\n"
          ],
          "name": "stderr"
        },
        {
          "output_type": "stream",
          "text": [
            "A little boy in a life jacket is being squirted with water on the side of the slide .\n"
          ],
          "name": "stdout"
        },
        {
          "output_type": "stream",
          "text": [
            "127.0.0.1 - - [14/Mar/2021 12:54:47] \"\u001b[37mGET /static/3736786640_70df13be2c.jpg HTTP/1.1\u001b[0m\" 200 -\n",
            "127.0.0.1 - - [14/Mar/2021 12:55:18] \"\u001b[37mPOST / HTTP/1.1\u001b[0m\" 200 -\n"
          ],
          "name": "stderr"
        },
        {
          "output_type": "stream",
          "text": [
            "A man wearing a flower dress and shoes walks past some light .\n"
          ],
          "name": "stdout"
        },
        {
          "output_type": "stream",
          "text": [
            "127.0.0.1 - - [14/Mar/2021 12:55:18] \"\u001b[37mGET /static/3737492755_bcfb800ed1.jpg HTTP/1.1\u001b[0m\" 200 -\n",
            "127.0.0.1 - - [14/Mar/2021 12:55:50] \"\u001b[37mPOST / HTTP/1.1\u001b[0m\" 200 -\n"
          ],
          "name": "stderr"
        },
        {
          "output_type": "stream",
          "text": [
            "A little girl is swinging in a baby jump in the air .\n"
          ],
          "name": "stdout"
        },
        {
          "output_type": "stream",
          "text": [
            "127.0.0.1 - - [14/Mar/2021 12:55:51] \"\u001b[37mGET /static/3737539561_d1dc161040.jpg HTTP/1.1\u001b[0m\" 200 -\n",
            "127.0.0.1 - - [14/Mar/2021 12:56:22] \"\u001b[37mPOST / HTTP/1.1\u001b[0m\" 200 -\n"
          ],
          "name": "stderr"
        },
        {
          "output_type": "stream",
          "text": [
            "A woman in a blue bathing suit is standing by the river looking into the distance .\n"
          ],
          "name": "stdout"
        },
        {
          "output_type": "stream",
          "text": [
            "127.0.0.1 - - [14/Mar/2021 12:56:23] \"\u001b[37mGET /static/3737711435_113ccd0a52.jpg HTTP/1.1\u001b[0m\" 200 -\n",
            "127.0.0.1 - - [14/Mar/2021 12:56:57] \"\u001b[37mPOST / HTTP/1.1\u001b[0m\" 200 -\n"
          ],
          "name": "stderr"
        },
        {
          "output_type": "stream",
          "text": [
            "A little boy is sitting in a toy car with a blonde woman .\n"
          ],
          "name": "stdout"
        },
        {
          "output_type": "stream",
          "text": [
            "127.0.0.1 - - [14/Mar/2021 12:56:58] \"\u001b[37mGET /static/3738685861_8dfff28760.jpg HTTP/1.1\u001b[0m\" 200 -\n",
            "127.0.0.1 - - [14/Mar/2021 12:57:28] \"\u001b[37mPOST / HTTP/1.1\u001b[0m\" 200 -\n"
          ],
          "name": "stderr"
        },
        {
          "output_type": "stream",
          "text": [
            "A little boy is playing with their red and white paint .\n"
          ],
          "name": "stdout"
        },
        {
          "output_type": "stream",
          "text": [
            "127.0.0.1 - - [14/Mar/2021 12:57:28] \"\u001b[37mGET /static/3738789925_7d17dbdf25.jpg HTTP/1.1\u001b[0m\" 200 -\n",
            "127.0.0.1 - - [14/Mar/2021 12:58:03] \"\u001b[37mPOST / HTTP/1.1\u001b[0m\" 200 -\n"
          ],
          "name": "stderr"
        },
        {
          "output_type": "stream",
          "text": [
            "A young boy with a baseball bat on his feet is going over a green field .\n"
          ],
          "name": "stdout"
        },
        {
          "output_type": "stream",
          "text": [
            "127.0.0.1 - - [14/Mar/2021 12:58:03] \"\u001b[37mGET /static/3739833689_a0038545bd.jpg HTTP/1.1\u001b[0m\" 200 -\n",
            "127.0.0.1 - - [14/Mar/2021 12:58:29] \"\u001b[37mPOST / HTTP/1.1\u001b[0m\" 200 -\n"
          ],
          "name": "stderr"
        },
        {
          "output_type": "stream",
          "text": [
            "A young boy is sitting in a blue kitchen with fingers to a yellow slide .\n"
          ],
          "name": "stdout"
        },
        {
          "output_type": "stream",
          "text": [
            "127.0.0.1 - - [14/Mar/2021 12:58:29] \"\u001b[37mGET /static/3741462565_cc35966b7a.jpg HTTP/1.1\u001b[0m\" 200 -\n",
            "127.0.0.1 - - [14/Mar/2021 12:58:54] \"\u001b[37mPOST / HTTP/1.1\u001b[0m\" 200 -\n"
          ],
          "name": "stderr"
        },
        {
          "output_type": "stream",
          "text": [
            "A boy jumps off of an open air mound .\n"
          ],
          "name": "stdout"
        },
        {
          "output_type": "stream",
          "text": [
            "127.0.0.1 - - [14/Mar/2021 12:58:54] \"\u001b[37mGET /static/3741827382_71e93298d0.jpg HTTP/1.1\u001b[0m\" 200 -\n",
            "127.0.0.1 - - [14/Mar/2021 12:59:19] \"\u001b[37mPOST / HTTP/1.1\u001b[0m\" 200 -\n"
          ],
          "name": "stderr"
        },
        {
          "output_type": "stream",
          "text": [
            "A baseball player is trying to play a game with a piece of basket .\n"
          ],
          "name": "stdout"
        },
        {
          "output_type": "stream",
          "text": [
            "127.0.0.1 - - [14/Mar/2021 12:59:20] \"\u001b[37mGET /static/3744832122_2f4febdff6.jpg HTTP/1.1\u001b[0m\" 200 -\n",
            "127.0.0.1 - - [14/Mar/2021 12:59:45] \"\u001b[37mPOST / HTTP/1.1\u001b[0m\" 200 -\n"
          ],
          "name": "stderr"
        },
        {
          "output_type": "stream",
          "text": [
            "A male hiker walks along the snowy mountain .\n"
          ],
          "name": "stdout"
        },
        {
          "output_type": "stream",
          "text": [
            "127.0.0.1 - - [14/Mar/2021 12:59:46] \"\u001b[37mGET /static/3745451546_fc8ec70cbd.jpg HTTP/1.1\u001b[0m\" 200 -\n",
            "127.0.0.1 - - [14/Mar/2021 13:00:11] \"\u001b[37mPOST / HTTP/1.1\u001b[0m\" 200 -\n"
          ],
          "name": "stderr"
        },
        {
          "output_type": "stream",
          "text": [
            "Three girls are standing in the sand at the beach .\n"
          ],
          "name": "stdout"
        },
        {
          "output_type": "stream",
          "text": [
            "127.0.0.1 - - [14/Mar/2021 13:00:11] \"\u001b[37mGET /static/3747543364_bf5b548527.jpg HTTP/1.1\u001b[0m\" 200 -\n",
            "127.0.0.1 - - [14/Mar/2021 13:00:37] \"\u001b[37mPOST / HTTP/1.1\u001b[0m\" 200 -\n"
          ],
          "name": "stderr"
        },
        {
          "output_type": "stream",
          "text": [
            "A baby plays with a dog in the middle of the hill .\n"
          ],
          "name": "stdout"
        },
        {
          "output_type": "stream",
          "text": [
            "127.0.0.1 - - [14/Mar/2021 13:00:39] \"\u001b[37mGET /static/3751594676_edfbfa0688.jpg HTTP/1.1\u001b[0m\" 200 -\n",
            "127.0.0.1 - - [14/Mar/2021 13:01:08] \"\u001b[37mPOST / HTTP/1.1\u001b[0m\" 200 -\n"
          ],
          "name": "stderr"
        },
        {
          "output_type": "stream",
          "text": [
            "A child in a red jacket is sitting on a red carpet .\n"
          ],
          "name": "stdout"
        },
        {
          "output_type": "stream",
          "text": [
            "127.0.0.1 - - [14/Mar/2021 13:01:09] \"\u001b[37mGET /static/3756150099_50882fc029.jpg HTTP/1.1\u001b[0m\" 200 -\n",
            "127.0.0.1 - - [14/Mar/2021 13:02:42] \"\u001b[37mPOST / HTTP/1.1\u001b[0m\" 200 -\n"
          ],
          "name": "stderr"
        },
        {
          "output_type": "stream",
          "text": [
            "A toddler is sitting down .\n"
          ],
          "name": "stdout"
        },
        {
          "output_type": "stream",
          "text": [
            "127.0.0.1 - - [14/Mar/2021 13:02:43] \"\u001b[37mGET /static/3757598567_739b7da835.jpg HTTP/1.1\u001b[0m\" 200 -\n",
            "127.0.0.1 - - [14/Mar/2021 13:03:10] \"\u001b[37mPOST / HTTP/1.1\u001b[0m\" 200 -\n"
          ],
          "name": "stderr"
        },
        {
          "output_type": "stream",
          "text": [
            "A boy plays in the sand on a lake .\n"
          ],
          "name": "stdout"
        },
        {
          "output_type": "stream",
          "text": [
            "127.0.0.1 - - [14/Mar/2021 13:03:10] \"\u001b[37mGET /static/3758175529_81941e7cc9.jpg HTTP/1.1\u001b[0m\" 200 -\n",
            "127.0.0.1 - - [14/Mar/2021 13:03:37] \"\u001b[37mPOST / HTTP/1.1\u001b[0m\" 200 -\n"
          ],
          "name": "stderr"
        },
        {
          "output_type": "stream",
          "text": [
            "A woman in a swimsuit is diving against a wave that is looking through a lake .\n"
          ],
          "name": "stdout"
        },
        {
          "output_type": "stream",
          "text": [
            "127.0.0.1 - - [14/Mar/2021 13:03:37] \"\u001b[37mGET /static/3758787457_1a903ee1e9.jpg HTTP/1.1\u001b[0m\" 200 -\n",
            "127.0.0.1 - - [14/Mar/2021 13:04:18] \"\u001b[37mPOST / HTTP/1.1\u001b[0m\" 200 -\n"
          ],
          "name": "stderr"
        },
        {
          "output_type": "stream",
          "text": [
            "A boy is swimming in open water .\n"
          ],
          "name": "stdout"
        },
        {
          "output_type": "stream",
          "text": [
            "127.0.0.1 - - [14/Mar/2021 13:04:18] \"\u001b[37mGET /static/3759230208_1c2a492b12.jpg HTTP/1.1\u001b[0m\" 200 -\n",
            "127.0.0.1 - - [14/Mar/2021 13:04:40] \"\u001b[37mPOST / HTTP/1.1\u001b[0m\" 200 -\n"
          ],
          "name": "stderr"
        },
        {
          "output_type": "stream",
          "text": [
            "A boy runs on short steps while another man runs along it .\n"
          ],
          "name": "stdout"
        },
        {
          "output_type": "stream",
          "text": [
            "127.0.0.1 - - [14/Mar/2021 13:04:40] \"\u001b[37mGET /static/3759492488_592cd78ed1.jpg HTTP/1.1\u001b[0m\" 200 -\n",
            "127.0.0.1 - - [14/Mar/2021 13:05:05] \"\u001b[37mPOST / HTTP/1.1\u001b[0m\" 200 -\n"
          ],
          "name": "stderr"
        },
        {
          "output_type": "stream",
          "text": [
            "Two girls in dresses are smiling at the camera .\n"
          ],
          "name": "stdout"
        },
        {
          "output_type": "stream",
          "text": [
            "127.0.0.1 - - [14/Mar/2021 13:05:06] \"\u001b[37mGET /static/3760400645_3ba51d27f9.jpg HTTP/1.1\u001b[0m\" 200 -\n",
            "127.0.0.1 - - [14/Mar/2021 13:05:34] \"\u001b[37mPOST / HTTP/1.1\u001b[0m\" 200 -\n"
          ],
          "name": "stderr"
        },
        {
          "output_type": "stream",
          "text": [
            "A young boy in a red and white shirt is playing with a tennis ball in a grassy field .\n"
          ],
          "name": "stdout"
        },
        {
          "output_type": "stream",
          "text": [
            "127.0.0.1 - - [14/Mar/2021 13:05:35] \"\u001b[37mGET /static/3767841911_6678052eb6.jpg HTTP/1.1\u001b[0m\" 200 -\n",
            "127.0.0.1 - - [14/Mar/2021 13:09:57] \"\u001b[37mPOST / HTTP/1.1\u001b[0m\" 200 -\n"
          ],
          "name": "stderr"
        },
        {
          "output_type": "stream",
          "text": [
            "A tan dog runs along the grass .\n"
          ],
          "name": "stdout"
        },
        {
          "output_type": "stream",
          "text": [
            "127.0.0.1 - - [14/Mar/2021 13:09:58] \"\u001b[37mGET /static/image5.jpg HTTP/1.1\u001b[0m\" 200 -\n",
            "127.0.0.1 - - [14/Mar/2021 13:11:20] \"\u001b[37mPOST / HTTP/1.1\u001b[0m\" 200 -\n"
          ],
          "name": "stderr"
        },
        {
          "output_type": "stream",
          "text": [
            "A golden retriever is laying with a in across the grass .\n"
          ],
          "name": "stdout"
        },
        {
          "output_type": "stream",
          "text": [
            "127.0.0.1 - - [14/Mar/2021 13:11:20] \"\u001b[37mGET /static/boy.jpg HTTP/1.1\u001b[0m\" 200 -\n",
            "127.0.0.1 - - [14/Mar/2021 13:16:43] \"\u001b[37mPOST / HTTP/1.1\u001b[0m\" 200 -\n"
          ],
          "name": "stderr"
        },
        {
          "output_type": "stream",
          "text": [
            "A man is riding a bicycle on a sidewalk with two others in the background .\n"
          ],
          "name": "stdout"
        },
        {
          "output_type": "stream",
          "text": [
            "127.0.0.1 - - [14/Mar/2021 13:16:44] \"\u001b[37mGET /static/bc1.jfif HTTP/1.1\u001b[0m\" 200 -\n",
            "127.0.0.1 - - [14/Mar/2021 13:17:14] \"\u001b[37mPOST / HTTP/1.1\u001b[0m\" 200 -\n"
          ],
          "name": "stderr"
        },
        {
          "output_type": "stream",
          "text": [
            "A motorcyclist is about to fall over .\n"
          ],
          "name": "stdout"
        },
        {
          "output_type": "stream",
          "text": [
            "127.0.0.1 - - [14/Mar/2021 13:17:14] \"\u001b[37mGET /static/bike1.png HTTP/1.1\u001b[0m\" 200 -\n",
            "127.0.0.1 - - [14/Mar/2021 13:17:34] \"\u001b[37mPOST / HTTP/1.1\u001b[0m\" 200 -\n"
          ],
          "name": "stderr"
        },
        {
          "output_type": "stream",
          "text": [
            "A boy slides down an inflatable water slide .\n"
          ],
          "name": "stdout"
        },
        {
          "output_type": "stream",
          "text": [
            "127.0.0.1 - - [14/Mar/2021 13:17:34] \"\u001b[37mGET /static/c5.jpg HTTP/1.1\u001b[0m\" 200 -\n",
            "127.0.0.1 - - [14/Mar/2021 13:18:12] \"\u001b[37mPOST / HTTP/1.1\u001b[0m\" 200 -\n"
          ],
          "name": "stderr"
        },
        {
          "output_type": "stream",
          "text": [
            "A white dog is in a field with his tongue hanging out .\n"
          ],
          "name": "stdout"
        },
        {
          "output_type": "stream",
          "text": [
            "127.0.0.1 - - [14/Mar/2021 13:18:13] \"\u001b[37mGET /static/D.jfif HTTP/1.1\u001b[0m\" 200 -\n",
            "127.0.0.1 - - [14/Mar/2021 13:18:34] \"\u001b[37mPOST / HTTP/1.1\u001b[0m\" 200 -\n"
          ],
          "name": "stderr"
        },
        {
          "output_type": "stream",
          "text": [
            "A basketball player in orange has the ball while three others in blue and white uniforms .\n"
          ],
          "name": "stdout"
        },
        {
          "output_type": "stream",
          "text": [
            "127.0.0.1 - - [14/Mar/2021 13:18:34] \"\u001b[37mGET /static/first1.jpg HTTP/1.1\u001b[0m\" 200 -\n",
            "127.0.0.1 - - [14/Mar/2021 13:19:10] \"\u001b[37mPOST / HTTP/1.1\u001b[0m\" 200 -\n"
          ],
          "name": "stderr"
        },
        {
          "output_type": "stream",
          "text": [
            "A snowboarder jumps high over the ramp .\n"
          ],
          "name": "stdout"
        },
        {
          "output_type": "stream",
          "text": [
            "127.0.0.1 - - [14/Mar/2021 13:19:11] \"\u001b[37mGET /static/first2.jpg HTTP/1.1\u001b[0m\" 200 -\n",
            "127.0.0.1 - - [14/Mar/2021 13:19:32] \"\u001b[37mPOST / HTTP/1.1\u001b[0m\" 200 -\n"
          ],
          "name": "stderr"
        },
        {
          "output_type": "stream",
          "text": [
            "A little kid plays in the snow in a brown jacket and red shorts on a harness .\n"
          ],
          "name": "stdout"
        },
        {
          "output_type": "stream",
          "text": [
            "127.0.0.1 - - [14/Mar/2021 13:19:32] \"\u001b[37mGET /static/fourth.png HTTP/1.1\u001b[0m\" 200 -\n",
            "127.0.0.1 - - [14/Mar/2021 13:20:06] \"\u001b[37mPOST / HTTP/1.1\u001b[0m\" 200 -\n"
          ],
          "name": "stderr"
        },
        {
          "output_type": "stream",
          "text": [
            "A tan dog jumps over a small hurdle .\n"
          ],
          "name": "stdout"
        },
        {
          "output_type": "stream",
          "text": [
            "127.0.0.1 - - [14/Mar/2021 13:20:06] \"\u001b[37mGET /static/last1.jpg HTTP/1.1\u001b[0m\" 200 -\n",
            "127.0.0.1 - - [14/Mar/2021 13:20:24] \"\u001b[37mPOST / HTTP/1.1\u001b[0m\" 200 -\n"
          ],
          "name": "stderr"
        },
        {
          "output_type": "stream",
          "text": [
            "A person on a snowboard jumps over a cliff in the snow .\n"
          ],
          "name": "stdout"
        },
        {
          "output_type": "stream",
          "text": [
            "127.0.0.1 - - [14/Mar/2021 13:20:25] \"\u001b[37mGET /static/seventh.png HTTP/1.1\u001b[0m\" 200 -\n",
            "127.0.0.1 - - [14/Mar/2021 13:20:48] \"\u001b[37mPOST / HTTP/1.1\u001b[0m\" 200 -\n"
          ],
          "name": "stderr"
        },
        {
          "output_type": "stream",
          "text": [
            "A man wearing a blue shirt is sliding down a red ramp on a skateboard .\n"
          ],
          "name": "stdout"
        },
        {
          "output_type": "stream",
          "text": [
            "127.0.0.1 - - [14/Mar/2021 13:20:48] \"\u001b[37mGET /static/sixth.png HTTP/1.1\u001b[0m\" 200 -\n",
            "127.0.0.1 - - [14/Mar/2021 13:21:06] \"\u001b[37mPOST / HTTP/1.1\u001b[0m\" 200 -\n"
          ],
          "name": "stderr"
        },
        {
          "output_type": "stream",
          "text": [
            "A person rides a motorbike through the woods .\n"
          ],
          "name": "stdout"
        },
        {
          "output_type": "stream",
          "text": [
            "127.0.0.1 - - [14/Mar/2021 13:21:06] \"\u001b[37mGET /static/third%20%281%29.jpg HTTP/1.1\u001b[0m\" 200 -\n",
            "127.0.0.1 - - [14/Mar/2021 13:21:23] \"\u001b[37mPOST / HTTP/1.1\u001b[0m\" 200 -\n"
          ],
          "name": "stderr"
        },
        {
          "output_type": "stream",
          "text": [
            "A man rides a surfboard as a boat flies in the background .\n"
          ],
          "name": "stdout"
        },
        {
          "output_type": "stream",
          "text": [
            "127.0.0.1 - - [14/Mar/2021 13:21:23] \"\u001b[37mGET /static/third.jpg HTTP/1.1\u001b[0m\" 200 -\n",
            "127.0.0.1 - - [14/Mar/2021 13:23:18] \"\u001b[37mPOST / HTTP/1.1\u001b[0m\" 200 -\n"
          ],
          "name": "stderr"
        },
        {
          "output_type": "stream",
          "text": [
            "Three people ride their four dogs in the yard .\n"
          ],
          "name": "stdout"
        },
        {
          "output_type": "stream",
          "text": [
            "127.0.0.1 - - [14/Mar/2021 13:23:18] \"\u001b[37mGET /static/109823394_83fcb735e1.jpg HTTP/1.1\u001b[0m\" 200 -\n",
            "127.0.0.1 - - [14/Mar/2021 13:25:26] \"\u001b[37mPOST / HTTP/1.1\u001b[0m\" 200 -\n"
          ],
          "name": "stderr"
        },
        {
          "output_type": "stream",
          "text": [
            "A man is rowing on his boat through very clear blue water .\n"
          ],
          "name": "stdout"
        },
        {
          "output_type": "stream",
          "text": [
            "127.0.0.1 - - [14/Mar/2021 13:25:27] \"\u001b[37mGET /static/217838128_1f0a84ddc1.jpg HTTP/1.1\u001b[0m\" 200 -\n",
            "127.0.0.1 - - [14/Mar/2021 13:26:27] \"\u001b[37mPOST / HTTP/1.1\u001b[0m\" 200 -\n"
          ],
          "name": "stderr"
        },
        {
          "output_type": "stream",
          "text": [
            "A man is sitting on a rock off the rocky shore .\n"
          ],
          "name": "stdout"
        },
        {
          "output_type": "stream",
          "text": [
            "127.0.0.1 - - [14/Mar/2021 13:26:28] \"\u001b[37mGET /static/219070971_ae43410b9e.jpg HTTP/1.1\u001b[0m\" 200 -\n",
            "127.0.0.1 - - [14/Mar/2021 13:27:19] \"\u001b[37mPOST / HTTP/1.1\u001b[0m\" 200 -\n"
          ],
          "name": "stderr"
        },
        {
          "output_type": "stream",
          "text": [
            "A man is standing in water near a waterfall .\n"
          ],
          "name": "stdout"
        },
        {
          "output_type": "stream",
          "text": [
            "127.0.0.1 - - [14/Mar/2021 13:27:19] \"\u001b[37mGET /static/219301555_17883a51bd.jpg HTTP/1.1\u001b[0m\" 200 -\n",
            "127.0.0.1 - - [14/Mar/2021 13:28:03] \"\u001b[37mPOST / HTTP/1.1\u001b[0m\" 200 -\n"
          ],
          "name": "stderr"
        },
        {
          "output_type": "stream",
          "text": [
            "A small black dog is playing together together on a grassy field .\n"
          ],
          "name": "stdout"
        },
        {
          "output_type": "stream",
          "text": [
            "127.0.0.1 - - [14/Mar/2021 13:28:04] \"\u001b[37mGET /static/221973402_ecb1cd51f1.jpg HTTP/1.1\u001b[0m\" 200 -\n"
          ],
          "name": "stderr"
        }
      ]
    },
    {
      "cell_type": "code",
      "metadata": {
        "id": "doJsMZE48b7y"
      },
      "source": [
        ""
      ],
      "execution_count": 15,
      "outputs": []
    }
  ]
}